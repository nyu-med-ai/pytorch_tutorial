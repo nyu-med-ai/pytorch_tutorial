{
 "cells": [
  {
   "cell_type": "code",
   "execution_count": 1,
   "metadata": {
    "collapsed": false,
    "jupyter": {
     "outputs_hidden": false
    }
   },
   "outputs": [],
   "source": [
    "%matplotlib inline"
   ]
  },
  {
   "cell_type": "markdown",
   "metadata": {},
   "source": [
    "\n",
    "Neural Networks\n",
    "===============\n",
    "\n",
    "Neural networks can be constructed using the ``torch.nn`` package.\n",
    "\n",
    "Now that you had a glimpse of ``autograd``, ``nn`` depends on\n",
    "``autograd`` to define models and differentiate them.\n",
    "An ``nn.Module`` contains layers, and a method ``forward(input)`` that\n",
    "returns the ``output``.\n",
    "\n",
    "\n",
    "A simple feed-forward network takes the input, feeds it\n",
    "through several layers one after the other, and then finally gives the\n",
    "output.\n",
    "\n",
    "A typical training procedure for a neural network is as follows:\n",
    "\n",
    "- Define the neural network that has some learnable parameters (or\n",
    "  weights)\n",
    "- Iterate over a dataset of inputs\n",
    "- Process input through the network\n",
    "- Compute the loss (how far is the output from being correct)\n",
    "- Propagate gradients back into the network’s parameters\n",
    "- Update the weights of the network, typically using a simple update rule:\n",
    "  ``weight = weight - learning_rate * gradient``\n",
    "\n",
    "Define the network\n",
    "------------------\n",
    "\n",
    "Let’s define our denoising network:\n",
    "\n"
   ]
  },
  {
   "cell_type": "code",
   "execution_count": 2,
   "metadata": {
    "collapsed": false,
    "jupyter": {
     "outputs_hidden": false
    }
   },
   "outputs": [
    {
     "name": "stdout",
     "output_type": "stream",
     "text": [
      "layer_list before putting into sequential\n",
      "[Conv2d(1, 64, kernel_size=(5, 5), stride=(1, 1), padding=(2, 2)), BatchNorm2d(64, eps=1e-05, momentum=0.1, affine=True, track_running_stats=True), ReLU(), Conv2d(64, 64, kernel_size=(5, 5), stride=(1, 1), padding=(2, 2)), BatchNorm2d(64, eps=1e-05, momentum=0.1, affine=True, track_running_stats=True), ReLU(), Conv2d(64, 64, kernel_size=(5, 5), stride=(1, 1), padding=(2, 2)), BatchNorm2d(64, eps=1e-05, momentum=0.1, affine=True, track_running_stats=True), ReLU(), Conv2d(64, 1, kernel_size=(5, 5), stride=(1, 1), padding=(2, 2)), BatchNorm2d(1, eps=1e-05, momentum=0.1, affine=True, track_running_stats=True), ReLU()]\n",
      "\n",
      "after sequential\n",
      "DenoiseCnn(\n",
      "  (conv_sequence): Sequential(\n",
      "    (0): Conv2d(1, 64, kernel_size=(5, 5), stride=(1, 1), padding=(2, 2))\n",
      "    (1): BatchNorm2d(64, eps=1e-05, momentum=0.1, affine=True, track_running_stats=True)\n",
      "    (2): ReLU()\n",
      "    (3): Conv2d(64, 64, kernel_size=(5, 5), stride=(1, 1), padding=(2, 2))\n",
      "    (4): BatchNorm2d(64, eps=1e-05, momentum=0.1, affine=True, track_running_stats=True)\n",
      "    (5): ReLU()\n",
      "    (6): Conv2d(64, 64, kernel_size=(5, 5), stride=(1, 1), padding=(2, 2))\n",
      "    (7): BatchNorm2d(64, eps=1e-05, momentum=0.1, affine=True, track_running_stats=True)\n",
      "    (8): ReLU()\n",
      "    (9): Conv2d(64, 1, kernel_size=(5, 5), stride=(1, 1), padding=(2, 2))\n",
      "    (10): BatchNorm2d(1, eps=1e-05, momentum=0.1, affine=True, track_running_stats=True)\n",
      "    (11): ReLU()\n",
      "  )\n",
      ")\n"
     ]
    }
   ],
   "source": [
    "import torch\n",
    "import torch.nn as nn\n",
    "\n",
    "\n",
    "class DenoiseCnn(nn.Module):\n",
    "    def __init__(self, num_chans=64, num_layers=4):\n",
    "        super(DenoiseCnn, self).__init__()\n",
    "        # store the inputs as class attributes\n",
    "        self.num_chans = num_chans\n",
    "        self.num_layers = num_layers\n",
    "        \n",
    "        # create the layers\n",
    "        layer_list = []\n",
    "        in_ch = 1\n",
    "        out_ch = num_chans\n",
    "        \n",
    "        for i in range(num_layers):\n",
    "            if i > 0:\n",
    "                in_ch = num_chans  # first layer\n",
    "            if i == num_layers - 1:\n",
    "                out_ch = 1  # last layer\n",
    "\n",
    "            layer_list.append(\n",
    "                 nn.Conv2d(\n",
    "                    in_channels=in_ch,  # num input channels\n",
    "                    out_channels=out_ch,  # number of filters\n",
    "                    kernel_size=5,  # size of the filter\n",
    "                    padding=2  # padding for border of image\n",
    "                )\n",
    "            )\n",
    "            layer_list.append(\n",
    "                 # applies a covariate shift for faster training \n",
    "                nn.BatchNorm2d(out_ch)\n",
    "            )\n",
    "            layer_list.append(\n",
    "                nn.ReLU()  # non-linear activation function: Rectified linear unit \n",
    "            )\n",
    "\n",
    "        print('layer_list before putting into sequential')\n",
    "        print(layer_list)\n",
    "        # combine it all into a PyTorch sequential module\n",
    "        self.conv_sequence = nn.Sequential(*layer_list)\n",
    "\n",
    "    def forward(self, x):\n",
    "        return self.conv_sequence(x)\n",
    "\n",
    "net = DenoiseCnn()\n",
    "print('')\n",
    "print('after sequential')\n",
    "print(net)"
   ]
  },
  {
   "cell_type": "markdown",
   "metadata": {},
   "source": [
    "**NOTE** ``torch.nn`` supports inputs that are a minibatch of samples. For examples ``nn.Conv2d`` will take in a 4D Tensor of\n",
    "``nSamples x nChannels x Height x Width``."
   ]
  },
  {
   "cell_type": "markdown",
   "metadata": {},
   "source": [
    "Training a neural network\n",
    "=========================\n",
    "To train the denoising network we will do the following steps\n",
    "\n",
    "1. Load and transform the knee images \n",
    "2. Define a Convolutional Neural Network\n",
    "3. Define a loss function\n",
    "4. Train the network on the training data\n",
    "5. Test the network on the test data\n",
    "\n",
    "**Data loading**\n",
    "\n",
    "You can use standard python packages that load image data into a numpy array. Then you can convert this array into a torch Tensor.\n",
    "\n",
    "- For images, packages such as Pillow, OpenCV are useful\n"
   ]
  },
  {
   "cell_type": "code",
   "execution_count": 3,
   "metadata": {},
   "outputs": [],
   "source": [
    "import data.transforms as transforms\n",
    "from data.kneedata import KneeDataSet"
   ]
  },
  {
   "cell_type": "markdown",
   "metadata": {},
   "source": [
    "*Set up a list of transformations for the data*"
   ]
  },
  {
   "cell_type": "code",
   "execution_count": 4,
   "metadata": {},
   "outputs": [],
   "source": [
    "noise_sigma = 4e-5\n",
    "transform_list = [\n",
    "    transforms.AddNoise(target_op=False, sigma=noise_sigma),\n",
    "    transforms.Ifft(norm='ortho'),\n",
    "    transforms.SquareRootSumSquare(),\n",
    "    transforms.Normalize(),\n",
    "    transforms.ToTensor(dat_complex=False, target_complex=False)\n",
    "]"
   ]
  },
  {
   "cell_type": "markdown",
   "metadata": {},
   "source": [
    "*Define the datasets*"
   ]
  },
  {
   "cell_type": "code",
   "execution_count": 5,
   "metadata": {},
   "outputs": [
    {
     "name": "stdout",
     "output_type": "stream",
     "text": [
      "\n",
      "KneeDataSet\n",
      "------------------------------------------------------------\n",
      "directory: pytorch_tutorial_data/train\n",
      "total number of slices: 324\n",
      "\n",
      "Transform List:\n",
      "AddNoise\n",
      "Ifft\n",
      "SquareRootSumSquare\n",
      "Normalize\n",
      "ToTensor\n",
      "\n",
      "\n",
      "KneeDataSet\n",
      "------------------------------------------------------------\n",
      "directory: pytorch_tutorial_data/val\n",
      "total number of slices: 109\n",
      "\n",
      "Transform List:\n",
      "AddNoise\n",
      "Ifft\n",
      "SquareRootSumSquare\n",
      "Normalize\n",
      "ToTensor\n",
      "\n"
     ]
    }
   ],
   "source": [
    "train_dataset = KneeDataSet(\n",
    "    'pytorch_tutorial_data/',\n",
    "    'train',\n",
    "    transform=transforms.Compose(transform_list)\n",
    ")\n",
    "\n",
    "print(train_dataset)\n",
    "\n",
    "val_dataset = KneeDataSet(\n",
    "    'pytorch_tutorial_data/',\n",
    "    'val',\n",
    "    transform=transforms.Compose(transform_list)\n",
    ")\n",
    "\n",
    "print(val_dataset)"
   ]
  },
  {
   "cell_type": "code",
   "execution_count": 6,
   "metadata": {},
   "outputs": [],
   "source": [
    "batch_size = 8\n",
    "train_loader = torch.utils.data.DataLoader(\n",
    "    train_dataset,\n",
    "    batch_size=batch_size,\n",
    "    shuffle=True,\n",
    ")\n",
    "val_loader = torch.utils.data.DataLoader(\n",
    "    val_dataset,\n",
    "    batch_size=batch_size,\n",
    ")"
   ]
  },
  {
   "cell_type": "markdown",
   "metadata": {},
   "source": [
    "**Display an example training pair**"
   ]
  },
  {
   "cell_type": "code",
   "execution_count": 7,
   "metadata": {},
   "outputs": [
    {
     "data": {
      "image/png": "[encoded data removed]",
      "text/plain": [
       "<Figure size 432x288 with 2 Axes>"
      ]
     },
     "metadata": {
      "needs_background": "light"
     },
     "output_type": "display_data"
    }
   ],
   "source": [
    "from log_functions import plot_pair, print_stats\n",
    "\n",
    "dataiter = iter(train_loader)\n",
    "sample = dataiter.next()\n",
    "\n",
    "dat, target = sample['dat'], sample['target']\n",
    "\n",
    "plot_pair(dat, target)"
   ]
  },
  {
   "cell_type": "markdown",
   "metadata": {},
   "source": [
    "\n",
    "**Now that all the data loading and processing has been taken care of, we can define our model **"
   ]
  },
  {
   "cell_type": "code",
   "execution_count": 8,
   "metadata": {},
   "outputs": [
    {
     "name": "stdout",
     "output_type": "stream",
     "text": [
      "layer_list before putting into sequential\n",
      "[Conv2d(1, 64, kernel_size=(5, 5), stride=(1, 1), padding=(2, 2)), BatchNorm2d(64, eps=1e-05, momentum=0.1, affine=True, track_running_stats=True), ReLU(), Conv2d(64, 64, kernel_size=(5, 5), stride=(1, 1), padding=(2, 2)), BatchNorm2d(64, eps=1e-05, momentum=0.1, affine=True, track_running_stats=True), ReLU(), Conv2d(64, 64, kernel_size=(5, 5), stride=(1, 1), padding=(2, 2)), BatchNorm2d(64, eps=1e-05, momentum=0.1, affine=True, track_running_stats=True), ReLU(), Conv2d(64, 1, kernel_size=(5, 5), stride=(1, 1), padding=(2, 2)), BatchNorm2d(1, eps=1e-05, momentum=0.1, affine=True, track_running_stats=True), ReLU()]\n",
      "DenoiseCnn(\n",
      "  (conv_sequence): Sequential(\n",
      "    (0): Conv2d(1, 64, kernel_size=(5, 5), stride=(1, 1), padding=(2, 2))\n",
      "    (1): BatchNorm2d(64, eps=1e-05, momentum=0.1, affine=True, track_running_stats=True)\n",
      "    (2): ReLU()\n",
      "    (3): Conv2d(64, 64, kernel_size=(5, 5), stride=(1, 1), padding=(2, 2))\n",
      "    (4): BatchNorm2d(64, eps=1e-05, momentum=0.1, affine=True, track_running_stats=True)\n",
      "    (5): ReLU()\n",
      "    (6): Conv2d(64, 64, kernel_size=(5, 5), stride=(1, 1), padding=(2, 2))\n",
      "    (7): BatchNorm2d(64, eps=1e-05, momentum=0.1, affine=True, track_running_stats=True)\n",
      "    (8): ReLU()\n",
      "    (9): Conv2d(64, 1, kernel_size=(5, 5), stride=(1, 1), padding=(2, 2))\n",
      "    (10): BatchNorm2d(1, eps=1e-05, momentum=0.1, affine=True, track_running_stats=True)\n",
      "    (11): ReLU()\n",
      "  )\n",
      ")\n"
     ]
    }
   ],
   "source": [
    "model = DenoiseCnn(\n",
    "    num_chans=64,\n",
    "    num_layers=4,\n",
    ")\n",
    "\n",
    "print(model)"
   ]
  },
  {
   "cell_type": "markdown",
   "metadata": {},
   "source": [
    "**We also need to specify the optimizer and loss function**"
   ]
  },
  {
   "cell_type": "code",
   "execution_count": 9,
   "metadata": {},
   "outputs": [],
   "source": [
    "optimizer = torch.optim.Adam(model.parameters()) # default learning rate\n",
    "loss_fn = torch.nn.MSELoss()"
   ]
  },
  {
   "cell_type": "markdown",
   "metadata": {},
   "source": [
    "**Now we finally train the model**"
   ]
  },
  {
   "cell_type": "code",
   "execution_count": 10,
   "metadata": {},
   "outputs": [
    {
     "name": "stdout",
     "output_type": "stream",
     "text": [
      "epoch 0 finished, elapsed time: 50 seconds, average loss: 0.0658\n",
      "epoch 1 finished, elapsed time: 102 seconds, average loss: 0.0186\n",
      "epoch 2 finished, elapsed time: 154 seconds, average loss: 0.0107\n",
      "epoch 3 finished, elapsed time: 203 seconds, average loss: 0.0084\n",
      "epoch 4 finished, elapsed time: 256 seconds, average loss: 0.0079\n",
      "epoch 5 finished, elapsed time: 305 seconds, average loss: 0.0065\n",
      "epoch 6 finished, elapsed time: 356 seconds, average loss: 0.0057\n",
      "epoch 7 finished, elapsed time: 407 seconds, average loss: 0.0054\n",
      "epoch 8 finished, elapsed time: 456 seconds, average loss: 0.0053\n",
      "epoch 9 finished, elapsed time: 508 seconds, average loss: 0.0057\n",
      "epoch 10 finished, elapsed time: 557 seconds, average loss: 0.0050\n",
      "epoch 11 finished, elapsed time: 605 seconds, average loss: 0.0045\n",
      "epoch 12 finished, elapsed time: 654 seconds, average loss: 0.0043\n",
      "epoch 13 finished, elapsed time: 703 seconds, average loss: 0.0044\n",
      "epoch 14 finished, elapsed time: 752 seconds, average loss: 0.0039\n",
      "epoch 15 finished, elapsed time: 800 seconds, average loss: 0.0044\n",
      "epoch 16 finished, elapsed time: 850 seconds, average loss: 0.0045\n",
      "epoch 17 finished, elapsed time: 899 seconds, average loss: 0.0042\n",
      "epoch 18 finished, elapsed time: 947 seconds, average loss: 0.0038\n",
      "epoch 19 finished, elapsed time: 993 seconds, average loss: 0.0036\n",
      "finished training, elapsed time: 993 seconds\n"
     ]
    }
   ],
   "source": [
    "import numpy as np\n",
    "import time\n",
    "\n",
    "start_time = time.perf_counter()\n",
    "\n",
    "for epoch in range(20):  # loop over the dataset multiple times\n",
    "    running_loss = []\n",
    "    for batch in train_loader:\n",
    "        target = batch['target']\n",
    "        dat = batch['dat']\n",
    "\n",
    "        # zero the parameter gradients\n",
    "        optimizer.zero_grad()\n",
    "\n",
    "        # forward + backward + optimize\n",
    "        outputs = model(dat)\n",
    "        loss = loss_fn(outputs, target)\n",
    "        loss.backward()\n",
    "        optimizer.step()\n",
    "        \n",
    "        running_loss.append(loss.item())\n",
    "    \n",
    "    current_time = time.perf_counter()\n",
    "    print('epoch {} finished, elapsed time: {:.0f} seconds, average loss: {:.4f}'.format(\n",
    "        epoch, current_time-start_time, np.mean(running_loss)))\n",
    "    \n",
    "end_time = time.perf_counter()\n",
    "\n",
    "print('finished training, elapsed time: {:.0f} seconds'.format(\n",
    "    end_time-start_time))"
   ]
  },
  {
   "cell_type": "markdown",
   "metadata": {},
   "source": [
    "**Now we want to evaluate the trained model on unseen data**\n"
   ]
  },
  {
   "cell_type": "code",
   "execution_count": 12,
   "metadata": {},
   "outputs": [
    {
     "data": {
      "image/png": "[encoded data removed]",
      "text/plain": [
       "<Figure size 432x288 with 3 Axes>"
      ]
     },
     "metadata": {
      "needs_background": "light"
     },
     "output_type": "display_data"
    }
   ],
   "source": [
    "from log_functions import plot_trio\n",
    "\n",
    "sample = val_dataset[15]\n",
    "dat, target = sample['dat'].unsqueeze(0), sample['target'].unsqueeze(0)\n",
    "\n",
    "model = model.eval()\n",
    "with torch.no_grad():\n",
    "    outputs = model(dat) # inference step\n",
    "\n",
    "plot_trio(dat, outputs.numpy(), target)"
   ]
  },
  {
   "cell_type": "code",
   "execution_count": null,
   "metadata": {},
   "outputs": [],
   "source": []
  }
 ],
 "metadata": {
  "kernelspec": {
   "display_name": "Python 3",
   "language": "python",
   "name": "python3"
  },
  "language_info": {
   "codemirror_mode": {
    "name": "ipython",
    "version": 3
   },
   "file_extension": ".py",
   "mimetype": "text/x-python",
   "name": "python",
   "nbconvert_exporter": "python",
   "pygments_lexer": "ipython3",
   "version": "3.7.4"
  }
 },
 "nbformat": 4,
 "nbformat_minor": 4
}
